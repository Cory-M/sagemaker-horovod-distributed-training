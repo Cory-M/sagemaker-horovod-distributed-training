{
 "cells": [
  {
   "cell_type": "markdown",
   "metadata": {},
   "source": [
    "# Horovod Distributed Training with SageMaker TensorFlow script mode."
   ]
  },
  {
   "cell_type": "code",
   "execution_count": null,
   "metadata": {},
   "outputs": [],
   "source": [
    "import sagemaker\n",
    "import os\n",
    "from sagemaker.utils import sagemaker_timestamp\n",
    "from sagemaker.tensorflow import TensorFlow\n",
    "from sagemaker import get_execution_role\n",
    "import time\n",
    "\n",
    "sagemaker_session = sagemaker.Session()\n",
    "\n",
    "default_s3_bucket = sagemaker_session.default_bucket()\n",
    "sagemaker_iam_role = get_execution_role()\n",
    "\n",
    "train_script = \"mnist_hvd.py\""
   ]
  },
  {
   "cell_type": "code",
   "execution_count": null,
   "metadata": {},
   "outputs": [],
   "source": [
    "import os\n",
    "import shutil\n",
    "\n",
    "import numpy as np\n",
    "\n",
    "import keras\n",
    "from keras.datasets import mnist\n",
    "(x_train, y_train), (x_test, y_test) = mnist.load_data()\n",
    "\n",
    "s3_train_path = \"s3://{}/mnist/train.npz\".format(default_s3_bucket)\n",
    "s3_test_path = \"s3://{}/mnist/test.npz\".format(default_s3_bucket)\n",
    "\n",
    "# Create local directory\n",
    "! mkdir -p /tmp/data/mnist_train\n",
    "! mkdir -p /tmp/data/mnist_test\n",
    "\n",
    "# Save data locally\n",
    "np.savez('/tmp/data/mnist_train/train.npz', data=x_train, labels=y_train)\n",
    "np.savez('/tmp/data/mnist_test/test.npz', data=x_test, labels=y_test)\n",
    "\n",
    "# Upload the dataset to s3\n",
    "! aws s3 cp /tmp/data/mnist_train/train.npz $s3_train_path\n",
    "! aws s3 cp /tmp/data/mnist_test/test.npz $s3_test_path\n",
    "\n",
    "print('training data at ', s3_train_path)\n",
    "print('test data at ', s3_test_path)\n",
    "! rm -rf /tmp/data"
   ]
  },
  {
   "cell_type": "markdown",
   "metadata": {},
   "source": [
    "## Multiple Instance Training"
   ]
  },
  {
   "cell_type": "code",
   "execution_count": null,
   "metadata": {},
   "outputs": [],
   "source": [
    "#train_instance_type='ml.p2.xlarge' #1 K80 GPU\n",
    "train_instance_type='ml.m5.4xlarge' #16 vCPU\n",
    "instance_count = 2"
   ]
  },
  {
   "cell_type": "code",
   "execution_count": null,
   "metadata": {},
   "outputs": [],
   "source": [
    "distributions = {'mpi': {'enabled': True, \"custom_mpi_options\": \"-verbose --NCCL_DEBUG=INFO\"}}"
   ]
  },
  {
   "cell_type": "code",
   "execution_count": null,
   "metadata": {},
   "outputs": [],
   "source": [
    "estimator = TensorFlow(entry_point=train_script,\n",
    "                       role=sagemaker_iam_role,\n",
    "                       train_instance_count=instance_count,\n",
    "                       train_instance_type=train_instance_type,\n",
    "                       script_mode=True,\n",
    "                       framework_version='1.12',\n",
    "                       py_version = 'py3',\n",
    "                       distributions=distributions,\n",
    "                       base_job_name='hvd-mnist')"
   ]
  },
  {
   "cell_type": "code",
   "execution_count": null,
   "metadata": {},
   "outputs": [],
   "source": [
    "%%time\n",
    "print( \"instance_type:\", train_instance_type, \"instance_count:\", instance_count, \"processes_per_host: 1\")\n",
    "estimator.fit({\"train\":s3_train_path, \"test\":s3_test_path})\n"
   ]
  },
  {
   "cell_type": "markdown",
   "metadata": {},
   "source": [
    "## Multiple Processors Per Instance Training (Multi-CPU/GPU node)"
   ]
  },
  {
   "cell_type": "code",
   "execution_count": null,
   "metadata": {},
   "outputs": [],
   "source": [
    "instance_count = 2\n",
    "processes_per_host = 2\n",
    "print( \"instance_type:\", train_instance_type, \"instance_count:\", instance_count, \"processes_per_host:\", processes_per_host)\n",
    "distributions = {'mpi': {'enabled': True, \n",
    "                         \"custom_mpi_options\": \"-verbose --NCCL_DEBUG=INFO -x OMPI_MCA_btl_vader_single_copy_mechanism=none\", \n",
    "                         \"processes_per_host\": processes_per_host}}"
   ]
  },
  {
   "cell_type": "code",
   "execution_count": null,
   "metadata": {},
   "outputs": [],
   "source": [
    "estimator = TensorFlow(entry_point=train_script,\n",
    "                       role=sagemaker_iam_role,\n",
    "                       train_instance_count=instance_count,\n",
    "                       train_instance_type=train_instance_type,\n",
    "                       script_mode=True,\n",
    "                       framework_version='1.12', \n",
    "                       py_version = 'py3',\n",
    "                       distributions=distributions,\n",
    "                       base_job_name='hvd-mnist-multi-cpu')"
   ]
  },
  {
   "cell_type": "code",
   "execution_count": null,
   "metadata": {},
   "outputs": [],
   "source": [
    "%%time\n",
    "estimator.fit({\"train\":s3_train_path, \"test\":s3_test_path})\n",
    "#print(\"train_instance_type - \",train_instance_type )"
   ]
  },
  {
   "cell_type": "markdown",
   "metadata": {},
   "source": [
    "## Reference Links:\n",
    "* [SageMaker Container MPI Support.](https://github.com/aws/sagemaker-containers/blob/master/src/sagemaker_containers/_mpi.py)\n",
    "* [Horovod Official Documentation](https://github.com/uber/horovod)\n",
    "* [SageMaker Tensorflow script mode example.](https://github.com/awslabs/amazon-sagemaker-examples/blob/master/sagemaker-python-sdk/tensorflow_script_mode_quickstart/tensorflow_script_mode_quickstart.ipynb)\n",
    "* [SageMaker_Tensorflow_Serving_Predictor](https://sagemaker.readthedocs.io/en/stable/sagemaker.tensorflow.html#sagemaker.tensorflow.serving.Predictor)"
   ]
  }
 ],
 "metadata": {
  "kernelspec": {
   "display_name": "conda_tensorflow_p36",
   "language": "python",
   "name": "conda_tensorflow_p36"
  },
  "language_info": {
   "codemirror_mode": {
    "name": "ipython",
    "version": 3
   },
   "file_extension": ".py",
   "mimetype": "text/x-python",
   "name": "python",
   "nbconvert_exporter": "python",
   "pygments_lexer": "ipython3",
   "version": "3.6.5"
  }
 },
 "nbformat": 4,
 "nbformat_minor": 2
}
